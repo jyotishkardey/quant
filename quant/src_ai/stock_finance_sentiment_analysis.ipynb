{
 "cells": [
  {
   "cell_type": "markdown",
   "metadata": {},
   "source": [
    "Sentiment Analyzer (How bullish or bearish the stock is)"
   ]
  },
  {
   "cell_type": "code",
   "execution_count": 15,
   "metadata": {},
   "outputs": [],
   "source": [
    "## LIbraries\n",
    "from phi.agent import Agent\n",
    "from phi.model.google import Gemini"
   ]
  },
  {
   "cell_type": "markdown",
   "metadata": {},
   "source": [
    "Create the Sentiment Agent. Give yfinace ticker symbol"
   ]
  },
  {
   "cell_type": "code",
   "execution_count": null,
   "metadata": {},
   "outputs": [],
   "source": [
    "from phi.tools.yfinance import YFinanceTools\n",
    "\n",
    "# Finance Agent\n",
    "finance_agent = Agent(\n",
    "    name=\"Finance Agent\",\n",
    "    role=\"Get financial data and interpret trends.\",\n",
    "    model=Gemini(id=\"gemini-1.5-flash\"),\n",
    "    tools=[YFinanceTools(stock_price=True, analyst_recommendations=True, company_info=True)],\n",
    "    instructions=[\n",
    "        \"Retrieve stock prices, analyst recommendations, and key financial data.\",\n",
    "        \"Focus on trends and present the data in tables with key insights.\"\n",
    "    ],\n",
    "    show_tool_calls=True,\n",
    "    markdown=True,\n",
    ")\n",
    "\n",
    "\n",
    "\n",
    "finance_agent.print_response(\"Here are the stock list:NVDA .\"\n",
    "    \"Analyze stock price movements, analyst recommendations, and any notable financial data.\"\n",
    "    \" Highlight key trends or events, and present the data in tables.\", \n",
    "    stream=True)\n",
    "    "
   ]
  },
  {
   "cell_type": "markdown",
   "metadata": {},
   "source": [
    "Sentiment Agent (Use Yfinance ticker symbol)"
   ]
  },
  {
   "cell_type": "code",
   "execution_count": 40,
   "metadata": {},
   "outputs": [
    {
     "data": {
      "application/vnd.jupyter.widget-view+json": {
       "model_id": "1fd67355ab9e47b8b470e1840fdc396f",
       "version_major": 2,
       "version_minor": 0
      },
      "text/plain": [
       "Output()"
      ]
     },
     "metadata": {},
     "output_type": "display_data"
    },
    {
     "name": "stderr",
     "output_type": "stream",
     "text": [
      "INFO:httpx:HTTP Request: POST https://api.phidata.com/v1/telemetry/agent/run/create \"HTTP/1.1 200 OK\"\n"
     ]
    },
    {
     "data": {
      "text/html": [
       "<pre style=\"white-space:pre;overflow-x:auto;line-height:normal;font-family:Menlo,'DejaVu Sans Mono',consolas,'Courier New',monospace\"></pre>\n"
      ],
      "text/plain": []
     },
     "metadata": {},
     "output_type": "display_data"
    }
   ],
   "source": [
    "\"\"\"Please install dependencies using:\n",
    "pip install newspaper4k lxml_html_clean\n",
    "\"\"\"\n",
    "\n",
    "from phi.tools.duckduckgo import DuckDuckGo\n",
    "from phi.tools.newspaper4k import Newspaper4k\n",
    "\n",
    "agent = Agent(\n",
    "    model=Gemini(id=\"gemini-1.5-flash\"),\n",
    "    tools=[GoogleSearch(), Newspaper4k()],\n",
    "    role=\"Search and interpret news articles related to stock.\",\n",
    "    instructions=[\n",
    "        \"For a given topic, search for the top 10 links.\"\n",
    "        \"Then read each URL and extract the article text, if a URL isn't available, ignore it.\"\n",
    "        \"Analyse the article text and tell whether there is any good news or bad news\" \n",
    "        \"Provide sentiment scores from 1 (bad news) to 10 (good news) with reasoning and sources.\"\n",
    "        \"Cite your sources. Be specific and provide links.\"\n",
    "    ],\n",
    "    markdown=True,\n",
    "    show_tool_calls=True,\n",
    "    add_datetime_to_instructions=True,\n",
    "    # debug_mode=True,\n",
    ")\n",
    "agent.print_response(\"Nvdia\", stream=True)"
   ]
  }
 ],
 "metadata": {
  "kernelspec": {
   "display_name": "Python 3",
   "language": "python",
   "name": "python3"
  },
  "language_info": {
   "codemirror_mode": {
    "name": "ipython",
    "version": 3
   },
   "file_extension": ".py",
   "mimetype": "text/x-python",
   "name": "python",
   "nbconvert_exporter": "python",
   "pygments_lexer": "ipython3",
   "version": "3.12.3"
  }
 },
 "nbformat": 4,
 "nbformat_minor": 2
}
