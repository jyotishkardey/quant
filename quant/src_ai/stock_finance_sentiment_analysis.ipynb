{
 "cells": [
  {
   "cell_type": "markdown",
   "metadata": {},
   "source": [
    "Sentiment Analyzer (How bullish or bearish the stock is)"
   ]
  },
  {
   "cell_type": "code",
   "execution_count": 1,
   "metadata": {},
   "outputs": [],
   "source": [
    "## LIbraries\n",
    "from phi.agent import Agent\n",
    "from phi.model.google import Gemini"
   ]
  },
  {
   "cell_type": "markdown",
   "metadata": {},
   "source": [
    "Create the Sentiment Agent. Give yfinace ticker symbol"
   ]
  },
  {
   "cell_type": "code",
   "execution_count": 2,
   "metadata": {},
   "outputs": [
    {
     "data": {
      "application/vnd.jupyter.widget-view+json": {
       "model_id": "a6f8092f527242ee8aa11dc17e24231e",
       "version_major": 2,
       "version_minor": 0
      },
      "text/plain": [
       "Output()"
      ]
     },
     "metadata": {},
     "output_type": "display_data"
    },
    {
     "data": {
      "text/html": [
       "<pre style=\"white-space:pre;overflow-x:auto;line-height:normal;font-family:Menlo,'DejaVu Sans Mono',consolas,'Courier New',monospace\"></pre>\n"
      ],
      "text/plain": []
     },
     "metadata": {},
     "output_type": "display_data"
    }
   ],
   "source": [
    "from phi.tools.yfinance import YFinanceTools\n",
    "\n",
    "# Finance Agent\n",
    "finance_agent = Agent(\n",
    "    name=\"Finance Agent\",\n",
    "    role=\"Get financial data and interpret trends.\",\n",
    "    model=Gemini(id=\"gemini-1.5-flash\"),\n",
    "    tools=[YFinanceTools(stock_price=True, analyst_recommendations=True, company_info=True)],\n",
    "    instructions=[\n",
    "        \"Retrieve stock prices, analyst recommendations, and key financial data.\",\n",
    "        \"Focus on trends and present the data in tables with key insights.\"\n",
    "    ],\n",
    "    show_tool_calls=True,\n",
    "    markdown=True,\n",
    ")\n",
    "\n",
    "\n",
    "\n",
    "finance_agent.print_response(\"Here are the stock list:NVDA .\"\n",
    "    \"Analyze stock price movements, analyst recommendations, and any notable financial data.\"\n",
    "    \" Highlight key trends or events, and present the data in tables.\", \n",
    "    stream=True)\n",
    "    "
   ]
  },
  {
   "cell_type": "markdown",
   "metadata": {},
   "source": [
    "Sentiment Agent (Use Yfinance ticker symbol)"
   ]
  },
  {
   "cell_type": "code",
   "execution_count": 3,
   "metadata": {},
   "outputs": [
    {
     "ename": "NameError",
     "evalue": "name 'GoogleSearch' is not defined",
     "output_type": "error",
     "traceback": [
      "\u001b[0;31m---------------------------------------------------------------------------\u001b[0m",
      "\u001b[0;31mNameError\u001b[0m                                 Traceback (most recent call last)",
      "Cell \u001b[0;32mIn[3], line 10\u001b[0m\n\u001b[1;32m      5\u001b[0m \u001b[38;5;28;01mfrom\u001b[39;00m \u001b[38;5;21;01mphi\u001b[39;00m\u001b[38;5;21;01m.\u001b[39;00m\u001b[38;5;21;01mtools\u001b[39;00m\u001b[38;5;21;01m.\u001b[39;00m\u001b[38;5;21;01mduckduckgo\u001b[39;00m \u001b[38;5;28;01mimport\u001b[39;00m DuckDuckGo\n\u001b[1;32m      6\u001b[0m \u001b[38;5;28;01mfrom\u001b[39;00m \u001b[38;5;21;01mphi\u001b[39;00m\u001b[38;5;21;01m.\u001b[39;00m\u001b[38;5;21;01mtools\u001b[39;00m\u001b[38;5;21;01m.\u001b[39;00m\u001b[38;5;21;01mnewspaper4k\u001b[39;00m \u001b[38;5;28;01mimport\u001b[39;00m Newspaper4k\n\u001b[1;32m      8\u001b[0m agent \u001b[38;5;241m=\u001b[39m Agent(\n\u001b[1;32m      9\u001b[0m     model\u001b[38;5;241m=\u001b[39mGemini(\u001b[38;5;28mid\u001b[39m\u001b[38;5;241m=\u001b[39m\u001b[38;5;124m\"\u001b[39m\u001b[38;5;124mgemini-1.5-flash\u001b[39m\u001b[38;5;124m\"\u001b[39m),\n\u001b[0;32m---> 10\u001b[0m     tools\u001b[38;5;241m=\u001b[39m[\u001b[43mGoogleSearch\u001b[49m(), Newspaper4k()],\n\u001b[1;32m     11\u001b[0m     role\u001b[38;5;241m=\u001b[39m\u001b[38;5;124m\"\u001b[39m\u001b[38;5;124mSearch and interpret news articles related to stock.\u001b[39m\u001b[38;5;124m\"\u001b[39m,\n\u001b[1;32m     12\u001b[0m     instructions\u001b[38;5;241m=\u001b[39m[\n\u001b[1;32m     13\u001b[0m         \u001b[38;5;124m\"\u001b[39m\u001b[38;5;124mFor a given topic, search for the top 10 links.\u001b[39m\u001b[38;5;124m\"\u001b[39m\n\u001b[1;32m     14\u001b[0m         \u001b[38;5;124m\"\u001b[39m\u001b[38;5;124mThen read each URL and extract the article text, if a URL isn\u001b[39m\u001b[38;5;124m'\u001b[39m\u001b[38;5;124mt available, ignore it.\u001b[39m\u001b[38;5;124m\"\u001b[39m\n\u001b[1;32m     15\u001b[0m         \u001b[38;5;124m\"\u001b[39m\u001b[38;5;124mAnalyse the article text and tell whether there is any good news or bad news\u001b[39m\u001b[38;5;124m\"\u001b[39m \n\u001b[1;32m     16\u001b[0m         \u001b[38;5;124m\"\u001b[39m\u001b[38;5;124mProvide sentiment scores from 1 (bad news) to 10 (good news) with reasoning and sources.\u001b[39m\u001b[38;5;124m\"\u001b[39m\n\u001b[1;32m     17\u001b[0m         \u001b[38;5;124m\"\u001b[39m\u001b[38;5;124mCite your sources. Be specific and provide links.\u001b[39m\u001b[38;5;124m\"\u001b[39m\n\u001b[1;32m     18\u001b[0m     ],\n\u001b[1;32m     19\u001b[0m     markdown\u001b[38;5;241m=\u001b[39m\u001b[38;5;28;01mTrue\u001b[39;00m,\n\u001b[1;32m     20\u001b[0m     show_tool_calls\u001b[38;5;241m=\u001b[39m\u001b[38;5;28;01mTrue\u001b[39;00m,\n\u001b[1;32m     21\u001b[0m     add_datetime_to_instructions\u001b[38;5;241m=\u001b[39m\u001b[38;5;28;01mTrue\u001b[39;00m,\n\u001b[1;32m     22\u001b[0m     \u001b[38;5;66;03m# debug_mode=True,\u001b[39;00m\n\u001b[1;32m     23\u001b[0m )\n\u001b[1;32m     24\u001b[0m agent\u001b[38;5;241m.\u001b[39mprint_response(\u001b[38;5;124m\"\u001b[39m\u001b[38;5;124mNvdia\u001b[39m\u001b[38;5;124m\"\u001b[39m, stream\u001b[38;5;241m=\u001b[39m\u001b[38;5;28;01mTrue\u001b[39;00m)\n",
      "\u001b[0;31mNameError\u001b[0m: name 'GoogleSearch' is not defined"
     ]
    }
   ],
   "source": [
    "\"\"\"Please install dependencies using:\n",
    "pip install newspaper4k lxml_html_clean\n",
    "\"\"\"\n",
    "\n",
    "from phi.tools.duckduckgo import GoogleSearch\n",
    "from phi.tools.newspaper4k import Newspaper4k\n",
    "\n",
    "agent = Agent(\n",
    "    model=Gemini(id=\"gemini-1.5-flash\"),\n",
    "    tools=[GoogleSearch(), Newspaper4k()],\n",
    "    role=\"Search and interpret news articles related to stock.\",\n",
    "    instructions=[\n",
    "        \"For a given topic, search for the top 10 links.\"\n",
    "        \"Then read each URL and extract the article text, if a URL isn't available, ignore it.\"\n",
    "        \"Analyse the article text and tell whether there is any good news or bad news\" \n",
    "        \"Provide sentiment scores from 1 (bad news) to 10 (good news) with reasoning and sources.\"\n",
    "        \"Cite your sources. Be specific and provide links.\"\n",
    "    ],\n",
    "    markdown=True,\n",
    "    show_tool_calls=True,\n",
    "    add_datetime_to_instructions=True,\n",
    "    # debug_mode=True,\n",
    ")\n",
    "agent.print_response(\"Nvdia\", stream=True)"
   ]
  }
 ],
 "metadata": {
  "kernelspec": {
   "display_name": "Python 3",
   "language": "python",
   "name": "python3"
  },
  "language_info": {
   "codemirror_mode": {
    "name": "ipython",
    "version": 3
   },
   "file_extension": ".py",
   "mimetype": "text/x-python",
   "name": "python",
   "nbconvert_exporter": "python",
   "pygments_lexer": "ipython3",
   "version": "3.12.3"
  }
 },
 "nbformat": 4,
 "nbformat_minor": 2
}
