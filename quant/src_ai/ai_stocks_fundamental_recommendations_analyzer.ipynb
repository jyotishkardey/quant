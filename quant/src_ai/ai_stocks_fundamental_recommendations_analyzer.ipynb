{
 "cells": [
  {
   "cell_type": "markdown",
   "metadata": {},
   "source": [
    "STOCK ANALYZER "
   ]
  },
  {
   "cell_type": "code",
   "execution_count": 2,
   "metadata": {},
   "outputs": [],
   "source": [
    "'''\n",
    "pip install duckdb\n",
    "'''\n",
    "from phi.agent import Agent\n",
    "from phi.tools.yfinance import YFinanceTools\n",
    "from phi.model.google import Gemini\n",
    "from phi.tools.csv_tools import CsvTools\n",
    "from ai_settings import *\n",
    "\n",
    "\n",
    "csv_agent = Agent(\n",
    "    name = 'CSV Agent',\n",
    "    role = 'CSV File analysis',\n",
    "    tools=[CsvTools(csvs=[stocks_input_data])],\n",
    "    model=Gemini(id=\"gemini-2.0-flash-exp\"),\n",
    "    markdown=True,\n",
    "    show_tool_calls=True,\n",
    "    instructions=[\n",
    "        \"Retrieve the column Ticker_Symbols\",\n",
    "    ],\n",
    ")\n",
    "\n",
    "\n",
    "# Finance Agent\n",
    "finance_agent = Agent(\n",
    "    name=\"Finance Agent\",\n",
    "    role=\"Get financial data and interpret trends.\",\n",
    "    model=Gemini(id=\"gemini-2.0-flash-exp\"),\n",
    "    tools=[YFinanceTools(stock_price=True, analyst_recommendations=True, company_info=True)],\n",
    "    instructions=[\n",
    "        \"Retrieve stock prices, analyst recommendations, and key financial data.\",\n",
    "        \"Focus on trends and present the data in tables with key insights.\"\n",
    "    ],\n",
    "    show_tool_calls=True,\n",
    "    markdown=True,\n",
    ")\n",
    "\n",
    "# Team of Agents\n",
    "finance_team = Agent(\n",
    "    model=Gemini(id=\"gemini-2.0-flash-exp\"),\n",
    "    team=[csv_agent, finance_agent],\n",
    "    instructions=[\n",
    "        f\"Do the following:\"\n",
    "        \"1. Ask CSV Agent (agent_0) to read the file stocks_analysis.csv and return list of ticker symbols from the column Ticker_Symbols.\"\n",
    "        \"2. For each ticker symbol ask Finance Agent (agent_1) to Analyze stock price movements, analyst recommendations, and any notable financial data of each stock.\"\n",
    "        \"Highlight key trends or events, and present the data in tables\"\n",
    "    ],\n",
    "    show_tool_calls=True,\n",
    "    markdown=True,\n",
    ")\n"
   ]
  },
  {
   "cell_type": "markdown",
   "metadata": {},
   "source": [
    "MAIN FUNCTION"
   ]
  },
  {
   "cell_type": "code",
   "execution_count": null,
   "metadata": {},
   "outputs": [],
   "source": [
    "if __name__ == \"__main__\":\n",
    "    # Final Prompt\n",
    "    finance_team.print_response(\"Analyze stocks from stocks_analysis.csv\",stream=True)"
   ]
  }
 ],
 "metadata": {
  "kernelspec": {
   "display_name": "Python 3",
   "language": "python",
   "name": "python3"
  },
  "language_info": {
   "codemirror_mode": {
    "name": "ipython",
    "version": 3
   },
   "file_extension": ".py",
   "mimetype": "text/x-python",
   "name": "python",
   "nbconvert_exporter": "python",
   "pygments_lexer": "ipython3",
   "version": "3.12.3"
  }
 },
 "nbformat": 4,
 "nbformat_minor": 2
}
