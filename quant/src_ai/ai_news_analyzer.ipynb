{
 "cells": [
  {
   "cell_type": "markdown",
   "metadata": {},
   "source": [
    "NEWS ANALYZER"
   ]
  },
  {
   "cell_type": "code",
   "execution_count": 5,
   "metadata": {},
   "outputs": [],
   "source": [
    "## LIbraries\n",
    "from phi.agent import Agent\n",
    "from phi.model.google import Gemini"
   ]
  },
  {
   "cell_type": "markdown",
   "metadata": {},
   "source": [
    "Tool to get lis of text files"
   ]
  },
  {
   "cell_type": "code",
   "execution_count": 6,
   "metadata": {},
   "outputs": [],
   "source": [
    "import glob\n",
    "\n",
    "\n",
    "def get_text_files() -> str:\n",
    "    \"Get the directory name form user. Call this function with user provided directory. This function  returns list of all text files in that directory\"\n",
    "    # Get a list of all .txt files in the specified directory\n",
    "    directory = '/home/jyotishkardey/quant/out/'\n",
    "    txt_files = glob.glob(f'{directory}/*.txt')\n",
    "    return txt_files\n"
   ]
  },
  {
   "cell_type": "markdown",
   "metadata": {},
   "source": [
    "News Analyzer Agent"
   ]
  },
  {
   "cell_type": "code",
   "execution_count": 7,
   "metadata": {},
   "outputs": [],
   "source": [
    "from phi.tools.file import FileTools\n",
    "\n",
    "\n",
    "csv_agent = Agent(\n",
    "    name = 'News Analyzer Agent',\n",
    "    role = 'Summarize News',\n",
    "    tools=[FileTools(), get_text_files],\n",
    "    model=Gemini(id=\"gemini-2.0-flash-exp\"),\n",
    "    markdown=True,\n",
    "    show_tool_calls=True,\n",
    "    instructions=[\n",
    "        \"Read the given file. Analyze the file to give summary of the given stock\"\n",
    "    ],\n",
    ")\n"
   ]
  },
  {
   "cell_type": "markdown",
   "metadata": {},
   "source": [
    "MAIN Function"
   ]
  },
  {
   "cell_type": "code",
   "execution_count": 8,
   "metadata": {},
   "outputs": [
    {
     "data": {
      "application/vnd.jupyter.widget-view+json": {
       "model_id": "6f245841e3ff47cba8fe98369f88dc72",
       "version_major": 2,
       "version_minor": 0
      },
      "text/plain": [
       "Output()"
      ]
     },
     "metadata": {},
     "output_type": "display_data"
    },
    {
     "data": {
      "text/html": [
       "<pre style=\"white-space:pre;overflow-x:auto;line-height:normal;font-family:Menlo,'DejaVu Sans Mono',consolas,'Courier New',monospace\"><span style=\"color: #000080; text-decoration-color: #000080\">INFO    </span> Reading file: <span style=\"color: #800080; text-decoration-color: #800080\">/home/jyotishkardey/quant/out/</span><span style=\"color: #ff00ff; text-decoration-color: #ff00ff\">articles_txt2025-01-09.txt</span>                                    \n",
       "</pre>\n"
      ],
      "text/plain": [
       "\u001b[34mINFO    \u001b[0m Reading file: \u001b[35m/home/jyotishkardey/quant/out/\u001b[0m\u001b[95marticles_txt2025-01-09.txt\u001b[0m                                    \n"
      ]
     },
     "metadata": {},
     "output_type": "display_data"
    },
    {
     "data": {
      "text/html": [
       "<pre style=\"white-space:pre;overflow-x:auto;line-height:normal;font-family:Menlo,'DejaVu Sans Mono',consolas,'Courier New',monospace\"><span style=\"color: #000080; text-decoration-color: #000080\">INFO    </span> Reading file: <span style=\"color: #800080; text-decoration-color: #800080\">/home/jyotishkardey/quant/out/</span><span style=\"color: #ff00ff; text-decoration-color: #ff00ff\">articles_2025-01-10.txt</span>                                       \n",
       "</pre>\n"
      ],
      "text/plain": [
       "\u001b[34mINFO    \u001b[0m Reading file: \u001b[35m/home/jyotishkardey/quant/out/\u001b[0m\u001b[95marticles_2025-01-10.txt\u001b[0m                                       \n"
      ]
     },
     "metadata": {},
     "output_type": "display_data"
    },
    {
     "data": {
      "text/html": [
       "<pre style=\"white-space:pre;overflow-x:auto;line-height:normal;font-family:Menlo,'DejaVu Sans Mono',consolas,'Courier New',monospace\"><span style=\"color: #000080; text-decoration-color: #000080\">INFO    </span> Reading file: <span style=\"color: #800080; text-decoration-color: #800080\">/home/jyotishkardey/quant/out/</span><span style=\"color: #ff00ff; text-decoration-color: #ff00ff\">articles_2025-01-08.txt</span>                                       \n",
       "</pre>\n"
      ],
      "text/plain": [
       "\u001b[34mINFO    \u001b[0m Reading file: \u001b[35m/home/jyotishkardey/quant/out/\u001b[0m\u001b[95marticles_2025-01-08.txt\u001b[0m                                       \n"
      ]
     },
     "metadata": {},
     "output_type": "display_data"
    },
    {
     "data": {
      "text/html": [
       "<pre style=\"white-space:pre;overflow-x:auto;line-height:normal;font-family:Menlo,'DejaVu Sans Mono',consolas,'Courier New',monospace\"><span style=\"color: #000080; text-decoration-color: #000080\">INFO    </span> Reading file: <span style=\"color: #800080; text-decoration-color: #800080\">/home/jyotishkardey/quant/out/</span><span style=\"color: #ff00ff; text-decoration-color: #ff00ff\">articles_2025-01-12.txt</span>                                       \n",
       "</pre>\n"
      ],
      "text/plain": [
       "\u001b[34mINFO    \u001b[0m Reading file: \u001b[35m/home/jyotishkardey/quant/out/\u001b[0m\u001b[95marticles_2025-01-12.txt\u001b[0m                                       \n"
      ]
     },
     "metadata": {},
     "output_type": "display_data"
    },
    {
     "data": {
      "text/html": [
       "<pre style=\"white-space:pre;overflow-x:auto;line-height:normal;font-family:Menlo,'DejaVu Sans Mono',consolas,'Courier New',monospace\"></pre>\n"
      ],
      "text/plain": []
     },
     "metadata": {},
     "output_type": "display_data"
    }
   ],
   "source": [
    "if __name__ == \"__main__\":\n",
    "    csv_agent.print_response(\"Read all .txt files from directory /home/jyotishkardey/quant/out/\"\n",
    "    \" and give a summary of the news of Indian Renewable Energy Development Agency Ltd\",stream=True)"
   ]
  }
 ],
 "metadata": {
  "kernelspec": {
   "display_name": "Python 3",
   "language": "python",
   "name": "python3"
  },
  "language_info": {
   "codemirror_mode": {
    "name": "ipython",
    "version": 3
   },
   "file_extension": ".py",
   "mimetype": "text/x-python",
   "name": "python",
   "nbconvert_exporter": "python",
   "pygments_lexer": "ipython3",
   "version": "3.12.3"
  }
 },
 "nbformat": 4,
 "nbformat_minor": 2
}
