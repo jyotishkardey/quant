{
 "cells": [
  {
   "cell_type": "markdown",
   "metadata": {},
   "source": [
    "(SWOT ANALYZER) Strength Weakness and Opportunity Analyzer"
   ]
  },
  {
   "cell_type": "markdown",
   "metadata": {},
   "source": [
    "Headers"
   ]
  },
  {
   "cell_type": "code",
   "execution_count": 1,
   "metadata": {},
   "outputs": [],
   "source": [
    "from phi.agent import Agent\n",
    "from phi.model.google import Gemini"
   ]
  },
  {
   "cell_type": "markdown",
   "metadata": {},
   "source": [
    "CSV Analyzer"
   ]
  },
  {
   "cell_type": "code",
   "execution_count": 2,
   "metadata": {},
   "outputs": [],
   "source": [
    "from phi.tools.csv_tools import CsvTools\n",
    "from ai_settings import *\n",
    "\n",
    "\n",
    "csv_agent = Agent(\n",
    "    name = 'CSV Agent',\n",
    "    role = 'CSV File analysis',\n",
    "    tools=[CsvTools(csvs=[stocks_input_data])],\n",
    "    model=Gemini(id=\"gemini-2.0-flash-exp\"),\n",
    "    markdown=True,\n",
    "    show_tool_calls=True,\n",
    "    instructions=[\n",
    "        \"Retrieve the column Company_Names\",\n",
    "    ],\n",
    ")"
   ]
  },
  {
   "cell_type": "markdown",
   "metadata": {},
   "source": [
    "SWOT Analyzer Agent"
   ]
  },
  {
   "cell_type": "code",
   "execution_count": 3,
   "metadata": {},
   "outputs": [],
   "source": [
    "\n",
    "from phi.tools.yfinance import YFinanceTools\n",
    "from phi.tools.googlesearch import GoogleSearch\n",
    "\n",
    "swot_agent = Agent(\n",
    "    name = 'SWOT Agent',\n",
    "    role = 'Analyze  strength, weakness, opportunities and threats for stocks',\n",
    "    model=Gemini(id=\"gemini-2.0-flash-exp\"),\n",
    "    tools=[GoogleSearch(), YFinanceTools(enable_all=True)],\n",
    "    instructions=[\"Use tables to display data\"],\n",
    "    show_tool_calls=True,\n",
    "    markdown=True,\n",
    ")"
   ]
  },
  {
   "cell_type": "markdown",
   "metadata": {},
   "source": [
    "Team Agent"
   ]
  },
  {
   "cell_type": "code",
   "execution_count": 4,
   "metadata": {},
   "outputs": [],
   "source": [
    "# Team of Agents\n",
    "swot_team = Agent(\n",
    "    model=Gemini(id=\"gemini-2.0-flash-exp\"),\n",
    "    team=[csv_agent, swot_agent],\n",
    "    instructions=[\n",
    "        f\"Do the following:\"\n",
    "        \"1. Ask CSV Agent (agent_0) to read the file stocks_analysis.csv and return list of company snamesymbols from the column Company_Names.\"\n",
    "        \"2. For each ticker symbol ask Finance Agent (agent_1) to analyze strengths, weakness, opportunities and threats.\"\n",
    "        \"Highlight key trends or events, and present the data in tables\"\n",
    "    ],\n",
    "    show_tool_calls=True,\n",
    "    markdown=True,\n",
    ")"
   ]
  },
  {
   "cell_type": "markdown",
   "metadata": {},
   "source": [
    "MAIN Function"
   ]
  },
  {
   "cell_type": "code",
   "execution_count": null,
   "metadata": {},
   "outputs": [],
   "source": [
    "if __name__ == \"__main__\":\n",
    "    swot_team.print_response(\"Analyze stocks from stocks_analysis.csv\",stream=True)"
   ]
  }
 ],
 "metadata": {
  "kernelspec": {
   "display_name": "Python 3",
   "language": "python",
   "name": "python3"
  },
  "language_info": {
   "codemirror_mode": {
    "name": "ipython",
    "version": 3
   },
   "file_extension": ".py",
   "mimetype": "text/x-python",
   "name": "python",
   "nbconvert_exporter": "python",
   "pygments_lexer": "ipython3",
   "version": "3.12.3"
  }
 },
 "nbformat": 4,
 "nbformat_minor": 2
}
