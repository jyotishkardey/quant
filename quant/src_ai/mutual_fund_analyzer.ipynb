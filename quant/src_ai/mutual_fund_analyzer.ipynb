{
 "cells": [
  {
   "cell_type": "markdown",
   "metadata": {},
   "source": [
    "MUTUAL FUND ANALYZER"
   ]
  },
  {
   "cell_type": "code",
   "execution_count": 1,
   "metadata": {},
   "outputs": [],
   "source": [
    "## LIbraries\n",
    "from phi.agent import Agent\n",
    "from phi.model.google import Gemini"
   ]
  },
  {
   "cell_type": "markdown",
   "metadata": {},
   "source": [
    "Storage (RAM)"
   ]
  },
  {
   "cell_type": "code",
   "execution_count": 2,
   "metadata": {},
   "outputs": [],
   "source": [
    "#pip install sqlalchemy\n",
    "from phi.storage.agent.sqlite import SqlAgentStorage\n",
    "\n",
    "# Create a storage backend using the Sqlite database\n",
    "ram = SqlAgentStorage(\n",
    "    # store sessions in the ai.sessions table\n",
    "    table_name=\"agent_sessions\",\n",
    "    # db_file: Sqlite database file\n",
    "    db_file=\"tmp/data.db\",\n",
    ")\n"
   ]
  },
  {
   "cell_type": "markdown",
   "metadata": {},
   "source": [
    "Tool Compare numbers"
   ]
  },
  {
   "cell_type": "code",
   "execution_count": 3,
   "metadata": {},
   "outputs": [],
   "source": [
    "def compare_two_numbers(number1: float, number2: float) -> str:\n",
    "    \"compare two numbers (number1 and number 2) and tell which number is greater\"\n",
    "    if number1 > number2:\n",
    "        return \"number1 is greater than number 2\"\n",
    "    elif number2 > number1:\n",
    "        return \"number2 is greater than number 1\"\n",
    "    else:\n",
    "        return \"number1 is equal to number 2\""
   ]
  },
  {
   "cell_type": "markdown",
   "metadata": {},
   "source": [
    "CSV ANALYZER"
   ]
  },
  {
   "cell_type": "code",
   "execution_count": null,
   "metadata": {},
   "outputs": [],
   "source": [
    "from phi.tools.csv_tools import CsvTools\n",
    "from phi.tools.calculator import Calculator\n",
    "from phi.tools.pandas import PandasTools\n",
    "from settings import *\n",
    "\n",
    "\n",
    "csv_agent = Agent(\n",
    "    name = 'CSV Agent',\n",
    "    role = 'CSV File analysis',\n",
    "    tools=[CsvTools(csvs=[mutual_fund_input_data]), compare_two_numbers],\n",
    "    model=Gemini(id=\"gemini-2.0-flash-exp\"),\n",
    "    markdown=True,\n",
    "    show_tool_calls=True,\n",
    "    #storage=ram,\n",
    "   # knowledge=knowledge_base,\n",
    "    instructions=[\n",
    "        \"Read the csv file and compare returns of the funds.\",\n",
    "    ],\n",
    ")\n",
    "\n",
    "csv_agent.print_response(\"Analyze fund_analysis.csv and give me names of 3 funds which gave greater return than NIFTY Total Market most of the times.\"\n",
    "        \"If no fund outperformed tell that top 3 funds does not exits since no fund  gave greater return than NIFTY Total Market\",\n",
    " stream=True)"
   ]
  }
 ],
 "metadata": {
  "kernelspec": {
   "display_name": "Python 3",
   "language": "python",
   "name": "python3"
  },
  "language_info": {
   "codemirror_mode": {
    "name": "ipython",
    "version": 3
   },
   "file_extension": ".py",
   "mimetype": "text/x-python",
   "name": "python",
   "nbconvert_exporter": "python",
   "pygments_lexer": "ipython3",
   "version": "3.12.3"
  }
 },
 "nbformat": 4,
 "nbformat_minor": 2
}
