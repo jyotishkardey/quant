{
 "cells": [
  {
   "cell_type": "markdown",
   "metadata": {},
   "source": [
    "MUTUAL FUND ANALYZER"
   ]
  },
  {
   "cell_type": "code",
   "execution_count": 7,
   "metadata": {},
   "outputs": [],
   "source": [
    "## LIbraries\n",
    "from phi.agent import Agent\n",
    "from phi.model.google import Gemini"
   ]
  },
  {
   "cell_type": "markdown",
   "metadata": {},
   "source": [
    "CSV ANALYZER"
   ]
  },
  {
   "cell_type": "code",
   "execution_count": 8,
   "metadata": {},
   "outputs": [
    {
     "data": {
      "application/vnd.jupyter.widget-view+json": {
       "model_id": "9bdffefa21d04f9e8793c8d208a5b4bd",
       "version_major": 2,
       "version_minor": 0
      },
      "text/plain": [
       "Output()"
      ]
     },
     "metadata": {},
     "output_type": "display_data"
    },
    {
     "data": {
      "text/html": [
       "<pre style=\"white-space:pre;overflow-x:auto;line-height:normal;font-family:Menlo,'DejaVu Sans Mono',consolas,'Courier New',monospace\"><span style=\"color: #000080; text-decoration-color: #000080\">INFO    </span> Loading csv file: fund_analysis                                                                           \n",
       "</pre>\n"
      ],
      "text/plain": [
       "\u001b[34mINFO    \u001b[0m Loading csv file: fund_analysis                                                                           \n"
      ]
     },
     "metadata": {},
     "output_type": "display_data"
    },
    {
     "data": {
      "text/html": [
       "<pre style=\"white-space:pre;overflow-x:auto;line-height:normal;font-family:Menlo,'DejaVu Sans Mono',consolas,'Courier New',monospace\"><span style=\"color: #000080; text-decoration-color: #000080\">INFO    </span> Running query: SELECT fund_name, <span style=\"color: #800080; text-decoration-color: #800080; font-weight: bold\">count</span><span style=\"font-weight: bold\">(</span>*<span style=\"font-weight: bold\">)</span> as count FROM fund_analysis WHERE fund_return &gt; nifty_return    \n",
       "         GROUP BY fund_name ORDER BY count DESC LIMIT <span style=\"color: #008080; text-decoration-color: #008080; font-weight: bold\">3</span>                                                            \n",
       "</pre>\n"
      ],
      "text/plain": [
       "\u001b[34mINFO    \u001b[0m Running query: SELECT fund_name, \u001b[1;35mcount\u001b[0m\u001b[1m(\u001b[0m*\u001b[1m)\u001b[0m as count FROM fund_analysis WHERE fund_return > nifty_return    \n",
       "         GROUP BY fund_name ORDER BY count DESC LIMIT \u001b[1;36m3\u001b[0m                                                            \n"
      ]
     },
     "metadata": {},
     "output_type": "display_data"
    },
    {
     "data": {
      "text/html": [
       "<pre style=\"white-space:pre;overflow-x:auto;line-height:normal;font-family:Menlo,'DejaVu Sans Mono',consolas,'Courier New',monospace\"><span style=\"color: #800000; text-decoration-color: #800000; font-weight: bold\">ERROR   </span> Error querying csv: Binder Error: Referenced column <span style=\"color: #008000; text-decoration-color: #008000\">\"fund_return\"</span> not found in FROM clause!               \n",
       "         Candidate bindings: <span style=\"color: #008000; text-decoration-color: #008000\">\"fund_analysis.Fund_Names\"</span>                                                            \n",
       "</pre>\n"
      ],
      "text/plain": [
       "\u001b[1;31mERROR   \u001b[0m Error querying csv: Binder Error: Referenced column \u001b[32m\"fund_return\"\u001b[0m not found in FROM clause!               \n",
       "         Candidate bindings: \u001b[32m\"fund_analysis.Fund_Names\"\u001b[0m                                                            \n"
      ]
     },
     "metadata": {},
     "output_type": "display_data"
    },
    {
     "data": {
      "text/html": [
       "<pre style=\"white-space:pre;overflow-x:auto;line-height:normal;font-family:Menlo,'DejaVu Sans Mono',consolas,'Courier New',monospace\"><span style=\"color: #000080; text-decoration-color: #000080\">INFO    </span> Reading columns from file: fund_analysis                                                                  \n",
       "</pre>\n"
      ],
      "text/plain": [
       "\u001b[34mINFO    \u001b[0m Reading columns from file: fund_analysis                                                                  \n"
      ]
     },
     "metadata": {},
     "output_type": "display_data"
    },
    {
     "data": {
      "text/html": [
       "<pre style=\"white-space:pre;overflow-x:auto;line-height:normal;font-family:Menlo,'DejaVu Sans Mono',consolas,'Courier New',monospace\"><span style=\"color: #000080; text-decoration-color: #000080\">INFO    </span> Reading file: fund_analysis                                                                               \n",
       "</pre>\n"
      ],
      "text/plain": [
       "\u001b[34mINFO    \u001b[0m Reading file: fund_analysis                                                                               \n"
      ]
     },
     "metadata": {},
     "output_type": "display_data"
    },
    {
     "data": {
      "text/html": [
       "<pre style=\"white-space:pre;overflow-x:auto;line-height:normal;font-family:Menlo,'DejaVu Sans Mono',consolas,'Courier New',monospace\"></pre>\n"
      ],
      "text/plain": []
     },
     "metadata": {},
     "output_type": "display_data"
    }
   ],
   "source": [
    "from phi.tools.csv_tools import CsvTools\n",
    "from phi.tools.calculator import Calculator\n",
    "from phi.tools.pandas import PandasTools\n",
    "from settings import *\n",
    "\n",
    "\n",
    "csv_agent = Agent(\n",
    "    name = 'CSV Agent',\n",
    "    role = 'CSV File analysis',\n",
    "    tools=[CsvTools(csvs=[mutual_fund_input_data]),\n",
    "        ],\n",
    "    model=Gemini(id=\"gemini-2.0-flash-exp\"),\n",
    "    markdown=True,\n",
    "    show_tool_calls=True,\n",
    "    instructions=[\n",
    "        \"Read the csv file and compare returns of the funds.\",\n",
    "        \"Note that if A has -5 and B has 5, then B is greater than A.\"\n",
    "    ],\n",
    ")\n",
    "\n",
    "csv_agent.print_response(\"Analyze fund_analysis.csv and give me names of 3 funds which outperformed NIFTY Total Market most of the times\",stream=True)"
   ]
  }
 ],
 "metadata": {
  "kernelspec": {
   "display_name": "Python 3",
   "language": "python",
   "name": "python3"
  },
  "language_info": {
   "codemirror_mode": {
    "name": "ipython",
    "version": 3
   },
   "file_extension": ".py",
   "mimetype": "text/x-python",
   "name": "python",
   "nbconvert_exporter": "python",
   "pygments_lexer": "ipython3",
   "version": "3.12.3"
  }
 },
 "nbformat": 4,
 "nbformat_minor": 2
}
