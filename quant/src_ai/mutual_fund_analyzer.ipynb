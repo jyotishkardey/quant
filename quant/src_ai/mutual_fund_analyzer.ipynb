{
 "cells": [
  {
   "cell_type": "markdown",
   "metadata": {},
   "source": [
    "MUTUAL FUND ANALYZER"
   ]
  },
  {
   "cell_type": "code",
   "execution_count": 1,
   "metadata": {},
   "outputs": [],
   "source": [
    "## LIbraries\n",
    "from phi.agent import Agent\n",
    "from phi.model.google import Gemini"
   ]
  },
  {
   "cell_type": "markdown",
   "metadata": {},
   "source": [
    "Storage (RAM)"
   ]
  },
  {
   "cell_type": "code",
   "execution_count": 2,
   "metadata": {},
   "outputs": [],
   "source": [
    "#pip install sqlalchemy\n",
    "from phi.storage.agent.sqlite import SqlAgentStorage\n",
    "\n",
    "# Create a storage backend using the Sqlite database\n",
    "ram = SqlAgentStorage(\n",
    "    # store sessions in the ai.sessions table\n",
    "    table_name=\"agent_sessions\",\n",
    "    # db_file: Sqlite database file\n",
    "    db_file=\"tmp/data.db\",\n",
    ")\n"
   ]
  },
  {
   "cell_type": "markdown",
   "metadata": {},
   "source": [
    "Tool Compare numbers"
   ]
  },
  {
   "cell_type": "code",
   "execution_count": 3,
   "metadata": {},
   "outputs": [],
   "source": [
    "def compare_two_numbers(number1: float, number2: float) -> str:\n",
    "    \"compare two numbers (number1 and number 2) and tell which number is greater\"\n",
    "    if number1 > number2:\n",
    "        return \"number1 is greater than number 2\"\n",
    "    elif number2 > number1:\n",
    "        return \"number2 is greater than number 1\"\n",
    "    else:\n",
    "        return \"number1 is equal to number 2\""
   ]
  },
  {
   "cell_type": "markdown",
   "metadata": {},
   "source": [
    "CSV ANALYZER"
   ]
  },
  {
   "cell_type": "code",
   "execution_count": 4,
   "metadata": {},
   "outputs": [
    {
     "data": {
      "application/vnd.jupyter.widget-view+json": {
       "model_id": "4a89e58154734a91b47d1eac1177b143",
       "version_major": 2,
       "version_minor": 0
      },
      "text/plain": [
       "Output()"
      ]
     },
     "metadata": {},
     "output_type": "display_data"
    },
    {
     "data": {
      "text/html": [
       "<pre style=\"white-space:pre;overflow-x:auto;line-height:normal;font-family:Menlo,'DejaVu Sans Mono',consolas,'Courier New',monospace\"><span style=\"color: #000080; text-decoration-color: #000080\">INFO    </span> Reading file: fund_analysis                                                                               \n",
       "</pre>\n"
      ],
      "text/plain": [
       "\u001b[34mINFO    \u001b[0m Reading file: fund_analysis                                                                               \n"
      ]
     },
     "metadata": {},
     "output_type": "display_data"
    },
    {
     "data": {
      "text/html": [
       "<pre style=\"white-space:pre;overflow-x:auto;line-height:normal;font-family:Menlo,'DejaVu Sans Mono',consolas,'Courier New',monospace\"><span style=\"color: #000080; text-decoration-color: #000080\">INFO    </span> Loading csv file: fund_analysis                                                                           \n",
       "</pre>\n"
      ],
      "text/plain": [
       "\u001b[34mINFO    \u001b[0m Loading csv file: fund_analysis                                                                           \n"
      ]
     },
     "metadata": {},
     "output_type": "display_data"
    },
    {
     "data": {
      "text/html": [
       "<pre style=\"white-space:pre;overflow-x:auto;line-height:normal;font-family:Menlo,'DejaVu Sans Mono',consolas,'Courier New',monospace\"><span style=\"color: #000080; text-decoration-color: #000080\">INFO    </span> Running query: SELECT Fund_Names FROM fund_analysis WHERE <span style=\"color: #008080; text-decoration-color: #008080; font-weight: bold\">2025</span>-<span style=\"color: #008080; text-decoration-color: #008080; font-weight: bold\">01</span>-<span style=\"color: #008080; text-decoration-color: #008080; font-weight: bold\">08</span> &gt; <span style=\"font-weight: bold\">(</span>SELECT <span style=\"color: #008080; text-decoration-color: #008080; font-weight: bold\">2025</span>-<span style=\"color: #008080; text-decoration-color: #008080; font-weight: bold\">01</span>-<span style=\"color: #008080; text-decoration-color: #008080; font-weight: bold\">08</span> FROM            \n",
       "         fund_analysis WHERE Fund_Names = <span style=\"color: #008000; text-decoration-color: #008000\">'NIFTY Total Market'</span><span style=\"font-weight: bold\">)</span> AND <span style=\"color: #008080; text-decoration-color: #008080; font-weight: bold\">2025</span>-<span style=\"color: #008080; text-decoration-color: #008080; font-weight: bold\">01</span>-<span style=\"color: #008080; text-decoration-color: #008080; font-weight: bold\">09</span> &gt; <span style=\"font-weight: bold\">(</span>SELECT <span style=\"color: #008080; text-decoration-color: #008080; font-weight: bold\">2025</span>-<span style=\"color: #008080; text-decoration-color: #008080; font-weight: bold\">01</span>-<span style=\"color: #008080; text-decoration-color: #008080; font-weight: bold\">09</span> FROM           \n",
       "         fund_analysis WHERE Fund_Names = <span style=\"color: #008000; text-decoration-color: #008000\">'NIFTY Total Market'</span><span style=\"font-weight: bold\">)</span>                                                    \n",
       "</pre>\n"
      ],
      "text/plain": [
       "\u001b[34mINFO    \u001b[0m Running query: SELECT Fund_Names FROM fund_analysis WHERE \u001b[1;36m2025\u001b[0m-\u001b[1;36m01\u001b[0m-\u001b[1;36m08\u001b[0m > \u001b[1m(\u001b[0mSELECT \u001b[1;36m2025\u001b[0m-\u001b[1;36m01\u001b[0m-\u001b[1;36m08\u001b[0m FROM            \n",
       "         fund_analysis WHERE Fund_Names = \u001b[32m'NIFTY Total Market'\u001b[0m\u001b[1m)\u001b[0m AND \u001b[1;36m2025\u001b[0m-\u001b[1;36m01\u001b[0m-\u001b[1;36m09\u001b[0m > \u001b[1m(\u001b[0mSELECT \u001b[1;36m2025\u001b[0m-\u001b[1;36m01\u001b[0m-\u001b[1;36m09\u001b[0m FROM           \n",
       "         fund_analysis WHERE Fund_Names = \u001b[32m'NIFTY Total Market'\u001b[0m\u001b[1m)\u001b[0m                                                    \n"
      ]
     },
     "metadata": {},
     "output_type": "display_data"
    },
    {
     "data": {
      "text/html": [
       "<pre style=\"white-space:pre;overflow-x:auto;line-height:normal;font-family:Menlo,'DejaVu Sans Mono',consolas,'Courier New',monospace\"></pre>\n"
      ],
      "text/plain": []
     },
     "metadata": {},
     "output_type": "display_data"
    }
   ],
   "source": [
    "from phi.tools.csv_tools import CsvTools\n",
    "from phi.tools.calculator import Calculator\n",
    "from phi.tools.pandas import PandasTools\n",
    "from settings import *\n",
    "\n",
    "\n",
    "csv_agent = Agent(\n",
    "    name = 'CSV Agent',\n",
    "    role = 'CSV File analysis',\n",
    "    tools=[CsvTools(csvs=[mutual_fund_input_data]), compare_two_numbers],\n",
    "    model=Gemini(id=\"gemini-2.0-flash-exp\"),\n",
    "    markdown=True,\n",
    "    show_tool_calls=True,\n",
    "    storage=ram,\n",
    "    instructions=[\n",
    "        \"Read the csv file and compare returns of the funds.\",\n",
    "    ],\n",
    ")\n",
    "\n",
    "'''\n",
    "csv_agent.print_response(\"Analyze fund_analysis.csv and give me names of 3 funds which gave greater return than NIFTY Total Market most of the times.\"\n",
    "        \"If no fund outperformed tell that top 3 funds does not exits since no fund  gave greater return than NIFTY Total Market\",\n",
    " stream=True)\n",
    " '''"
   ]
  }
 ],
 "metadata": {
  "kernelspec": {
   "display_name": "Python 3",
   "language": "python",
   "name": "python3"
  },
  "language_info": {
   "codemirror_mode": {
    "name": "ipython",
    "version": 3
   },
   "file_extension": ".py",
   "mimetype": "text/x-python",
   "name": "python",
   "nbconvert_exporter": "python",
   "pygments_lexer": "ipython3",
   "version": "3.12.3"
  }
 },
 "nbformat": 4,
 "nbformat_minor": 2
}
