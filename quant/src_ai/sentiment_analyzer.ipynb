{
 "cells": [
  {
   "cell_type": "markdown",
   "metadata": {},
   "source": [
    "SENTIMENT ANALYZER"
   ]
  },
  {
   "cell_type": "code",
   "execution_count": 12,
   "metadata": {},
   "outputs": [],
   "source": [
    "## LIbraries\n",
    "from phi.agent import Agent\n",
    "from phi.model.google import Gemini\n",
    "from phi.tools.googlesearch import GoogleSearch\n",
    "from phi.tools.newspaper4k import Newspaper4k"
   ]
  },
  {
   "cell_type": "markdown",
   "metadata": {},
   "source": [
    "NEWS AGENT"
   ]
  },
  {
   "cell_type": "code",
   "execution_count": 13,
   "metadata": {},
   "outputs": [
    {
     "data": {
      "application/vnd.jupyter.widget-view+json": {
       "model_id": "e8b8f67074054fc19435bb6d4042c65c",
       "version_major": 2,
       "version_minor": 0
      },
      "text/plain": [
       "Output()"
      ]
     },
     "metadata": {},
     "output_type": "display_data"
    },
    {
     "name": "stderr",
     "output_type": "stream",
     "text": [
      "INFO:httpx:HTTP Request: POST https://api.phidata.com/v1/telemetry/agent/run/create \"HTTP/1.1 200 OK\"\n"
     ]
    },
    {
     "data": {
      "text/html": [
       "<pre style=\"white-space:pre;overflow-x:auto;line-height:normal;font-family:Menlo,'DejaVu Sans Mono',consolas,'Courier New',monospace\"></pre>\n"
      ],
      "text/plain": []
     },
     "metadata": {},
     "output_type": "display_data"
    }
   ],
   "source": [
    "from phi.tools.crawl4ai_tools import Crawl4aiTools\n",
    "\n",
    "news_agent = Agent(\n",
    "    model=Gemini(id=\"gemini-2.0-flash-exp\"),\n",
    "    tools=[GoogleSearch(),Crawl4aiTools(max_length=None)],\n",
    "    description=\"You are a news agent that helps users find the latest news.\",\n",
    "    instructions=[\n",
    "        \"1. User will give you a stock name\",\n",
    "        \"2. Search for the stock name\",\n",
    "        \"3. For each link study the news articlue\"\n",
    "        \"3. Provide the summary of the result in tabular format\",\n",
    "    ],\n",
    "    markdown=True,\n",
    "    show_tool_calls=True,\n",
    "    add_datetime_to_instructions=True,\n",
    ")\n",
    "news_agent.print_response(\"HDFC Bank Stock.\", stream=True)"
   ]
  },
  {
   "cell_type": "markdown",
   "metadata": {},
   "source": [
    "CRAWL AGENT"
   ]
  },
  {
   "cell_type": "code",
   "execution_count": 14,
   "metadata": {},
   "outputs": [
    {
     "data": {
      "application/vnd.jupyter.widget-view+json": {
       "model_id": "e3a4ea7f8f294f049e16a91070d45fd2",
       "version_major": 2,
       "version_minor": 0
      },
      "text/plain": [
       "Output()"
      ]
     },
     "metadata": {},
     "output_type": "display_data"
    },
    {
     "name": "stderr",
     "output_type": "stream",
     "text": [
      "INFO:httpx:HTTP Request: POST https://api.phidata.com/v1/telemetry/agent/run/create \"HTTP/1.1 200 OK\"\n"
     ]
    },
    {
     "data": {
      "text/html": [
       "<pre style=\"white-space:pre;overflow-x:auto;line-height:normal;font-family:Menlo,'DejaVu Sans Mono',consolas,'Courier New',monospace\"></pre>\n"
      ],
      "text/plain": []
     },
     "metadata": {},
     "output_type": "display_data"
    }
   ],
   "source": [
    "from phi.agent import Agent\n",
    "from phi.model.openai import OpenAIChat\n",
    "from phi.tools.yfinance import YFinanceTools\n",
    "from phi.tools.duckduckgo import DuckDuckGo\n",
    "\n",
    "crawl_agent = Agent(\n",
    "    model=Gemini(id=\"gemini-2.0-flash-exp\"),\n",
    "    tools=[DuckDuckGo(), YFinanceTools(enable_all=True)],\n",
    "    instructions=[\"Use tables to display data\"],\n",
    "    show_tool_calls=True,\n",
    "    markdown=True,\n",
    ")\n",
    "agent.print_response(\"Analyze the stock APOLLOHOSP.NS for strength and weakness. Give the result in tabular format\", stream=True)"
   ]
  },
  {
   "cell_type": "markdown",
   "metadata": {},
   "source": [
    "TEAM of Agents"
   ]
  },
  {
   "cell_type": "code",
   "execution_count": 15,
   "metadata": {},
   "outputs": [
    {
     "data": {
      "application/vnd.jupyter.widget-view+json": {
       "model_id": "43c1cfb58f27481c965192fd9f946c1d",
       "version_major": 2,
       "version_minor": 0
      },
      "text/plain": [
       "Output()"
      ]
     },
     "metadata": {},
     "output_type": "display_data"
    },
    {
     "name": "stderr",
     "output_type": "stream",
     "text": [
      "INFO:httpx:HTTP Request: POST https://api.phidata.com/v1/telemetry/agent/run/create \"HTTP/1.1 200 OK\"\n"
     ]
    },
    {
     "name": "stderr",
     "output_type": "stream",
     "text": [
      "INFO:httpx:HTTP Request: POST https://api.phidata.com/v1/telemetry/agent/run/create \"HTTP/1.1 200 OK\"\n"
     ]
    },
    {
     "name": "stderr",
     "output_type": "stream",
     "text": [
      "INFO:httpx:HTTP Request: POST https://api.phidata.com/v1/telemetry/agent/run/create \"HTTP/1.1 200 OK\"\n"
     ]
    },
    {
     "data": {
      "text/html": [
       "<pre style=\"white-space:pre;overflow-x:auto;line-height:normal;font-family:Menlo,'DejaVu Sans Mono',consolas,'Courier New',monospace\"></pre>\n"
      ],
      "text/plain": []
     },
     "metadata": {},
     "output_type": "display_data"
    }
   ],
   "source": [
    "# Analyst Agent\n",
    "analyst_agent = Agent(\n",
    "    name=\"Analyst Agent\",\n",
    "    role=\"Ensure thoroughness and draw conclusions.\",\n",
    "    model=Gemini(id=\"gemini-2.0-flash-exp\"),\n",
    "    instructions=[\n",
    "        \"Check outputs for accuracy and completeness.\",\n",
    "        \"Synthesize data to provide a final sentiment score (1-10) with justification.\"\n",
    "    ],\n",
    "    show_tool_calls=True,\n",
    "    markdown=True,\n",
    ")\n",
    "\n",
    "agent_team = Agent(\n",
    "    model=Gemini(id=\"gemini-2.0-flash-exp\"),\n",
    "    team=[news_agent, crawl_agent, analyst_agent],\n",
    "    instructions=[\n",
    "        \"Combine the expertise of all agents to provide a cohesive, well-supported response.\",\n",
    "        \"Always include references and dates for all data points and sources.\",\n",
    "        \"Present all data in structured tables for clarity.\",\n",
    "        \"Explain the methodology used to arrive at the sentiment scores.\"\n",
    "    ],\n",
    "    show_tool_calls=True,\n",
    "    markdown=True,\n",
    ")\n",
    "\n",
    "## Run Agent Team\n",
    "\n",
    "# Final Prompt\n",
    "agent_team.print_response(\n",
    "    \"Analyze the stock HDFC Bank and give the sentiment score\",\n",
    "    stream=True\n",
    ")"
   ]
  }
 ],
 "metadata": {
  "kernelspec": {
   "display_name": "Python 3",
   "language": "python",
   "name": "python3"
  },
  "language_info": {
   "codemirror_mode": {
    "name": "ipython",
    "version": 3
   },
   "file_extension": ".py",
   "mimetype": "text/x-python",
   "name": "python",
   "nbconvert_exporter": "python",
   "pygments_lexer": "ipython3",
   "version": "3.12.3"
  }
 },
 "nbformat": 4,
 "nbformat_minor": 2
}
