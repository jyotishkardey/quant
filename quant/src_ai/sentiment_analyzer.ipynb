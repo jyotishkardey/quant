{
 "cells": [
  {
   "cell_type": "markdown",
   "metadata": {},
   "source": [
    "SENTIMENT ANALYZER"
   ]
  },
  {
   "cell_type": "code",
   "execution_count": 1,
   "metadata": {},
   "outputs": [],
   "source": [
    "## LIbraries\n",
    "from phi.agent import Agent\n",
    "from phi.model.google import Gemini\n",
    "from phi.tools.googlesearch import GoogleSearch\n",
    "from phi.tools.newspaper4k import Newspaper4k"
   ]
  },
  {
   "cell_type": "markdown",
   "metadata": {},
   "source": [
    "CSV Analyzer"
   ]
  },
  {
   "cell_type": "code",
   "execution_count": 2,
   "metadata": {},
   "outputs": [],
   "source": [
    "from phi.tools.csv_tools import CsvTools\n",
    "from settings import *\n",
    "\n",
    "\n",
    "csv_agent = Agent(\n",
    "    name = 'CSV Agent',\n",
    "    role = 'CSV File analysis',\n",
    "    tools=[CsvTools(csvs=[stocks_input_data])],\n",
    "    model=Gemini(id=\"gemini-2.0-flash-exp\"),\n",
    "    markdown=True,\n",
    "    show_tool_calls=True,\n",
    "    instructions=[\n",
    "        \"Retrieve the column Company_Names\",\n",
    "    ],\n",
    ")"
   ]
  },
  {
   "cell_type": "markdown",
   "metadata": {},
   "source": [
    "NEWS AGENT"
   ]
  },
  {
   "cell_type": "code",
   "execution_count": 3,
   "metadata": {},
   "outputs": [],
   "source": [
    "from phi.tools.crawl4ai_tools import Crawl4aiTools\n",
    "\n",
    "news_agent = Agent(\n",
    "    name = 'News Agent',\n",
    "    model = Gemini(id=\"gemini-2.0-flash-exp\"),\n",
    "    tools = [GoogleSearch(),Crawl4aiTools(max_length=None)],\n",
    "    role=\"You are a news agent that helps users find the latest news.\",\n",
    "    instructions=[\n",
    "        \"1. User will give you a stock name\",\n",
    "        \"2. Search for the stock name\",\n",
    "        \"3. For each link study the news articlue\"\n",
    "        \"3. Provide the summary of the result in tabular format\",\n",
    "    ],\n",
    "    markdown=True,\n",
    "    show_tool_calls=True,\n",
    "    add_datetime_to_instructions=True,\n",
    ")"
   ]
  },
  {
   "cell_type": "markdown",
   "metadata": {},
   "source": [
    "Analyst Agent"
   ]
  },
  {
   "cell_type": "code",
   "execution_count": 4,
   "metadata": {},
   "outputs": [],
   "source": [
    "# Analyst Agent\n",
    "analyst_agent = Agent(\n",
    "    name=\"Analyst Agent\",\n",
    "    role=\"Ensure thoroughness and draw conclusions.\",\n",
    "    model=Gemini(id=\"gemini-2.0-flash-exp\"),\n",
    "    instructions=[\n",
    "        \"Check outputs for accuracy and completeness.\",\n",
    "        \"Synthesize data to provide a final sentiment score (1-10) with justification.\"\n",
    "    ],\n",
    "    show_tool_calls=True,\n",
    "    markdown=True,\n",
    ")"
   ]
  },
  {
   "cell_type": "markdown",
   "metadata": {},
   "source": [
    "TEAM of Agents"
   ]
  },
  {
   "cell_type": "code",
   "execution_count": 5,
   "metadata": {},
   "outputs": [
    {
     "data": {
      "application/vnd.jupyter.widget-view+json": {
       "model_id": "2789bfe32ab34908b66632c2d6bd2e3c",
       "version_major": 2,
       "version_minor": 0
      },
      "text/plain": [
       "Output()"
      ]
     },
     "metadata": {},
     "output_type": "display_data"
    },
    {
     "data": {
      "text/html": [
       "<pre style=\"white-space:pre;overflow-x:auto;line-height:normal;font-family:Menlo,'DejaVu Sans Mono',consolas,'Courier New',monospace\"><span style=\"color: #000080; text-decoration-color: #000080\">INFO    </span> Loading csv file: stocks_analysis                                                                         \n",
       "</pre>\n"
      ],
      "text/plain": [
       "\u001b[34mINFO    \u001b[0m Loading csv file: stocks_analysis                                                                         \n"
      ]
     },
     "metadata": {},
     "output_type": "display_data"
    },
    {
     "data": {
      "text/html": [
       "<pre style=\"white-space:pre;overflow-x:auto;line-height:normal;font-family:Menlo,'DejaVu Sans Mono',consolas,'Courier New',monospace\"><span style=\"color: #000080; text-decoration-color: #000080\">INFO    </span> Running query: SELECT Company_Names FROM stocks_analysis                                                  \n",
       "</pre>\n"
      ],
      "text/plain": [
       "\u001b[34mINFO    \u001b[0m Running query: SELECT Company_Names FROM stocks_analysis                                                  \n"
      ]
     },
     "metadata": {},
     "output_type": "display_data"
    },
    {
     "name": "stderr",
     "output_type": "stream",
     "text": [
      "INFO:httpx:HTTP Request: POST https://api.phidata.com/v1/telemetry/agent/run/create \"HTTP/1.1 200 OK\"\n"
     ]
    },
    {
     "name": "stderr",
     "output_type": "stream",
     "text": [
      "INFO:httpx:HTTP Request: POST https://api.phidata.com/v1/telemetry/agent/run/create \"HTTP/1.1 200 OK\"\n"
     ]
    },
    {
     "name": "stderr",
     "output_type": "stream",
     "text": [
      "INFO:httpx:HTTP Request: POST https://api.phidata.com/v1/telemetry/agent/run/create \"HTTP/1.1 200 OK\"\n"
     ]
    },
    {
     "name": "stderr",
     "output_type": "stream",
     "text": [
      "INFO:httpx:HTTP Request: POST https://api.phidata.com/v1/telemetry/agent/run/create \"HTTP/1.1 200 OK\"\n"
     ]
    },
    {
     "name": "stderr",
     "output_type": "stream",
     "text": [
      "INFO:httpx:HTTP Request: POST https://api.phidata.com/v1/telemetry/agent/run/create \"HTTP/1.1 200 OK\"\n"
     ]
    },
    {
     "name": "stderr",
     "output_type": "stream",
     "text": [
      "INFO:httpx:HTTP Request: POST https://api.phidata.com/v1/telemetry/agent/run/create \"HTTP/1.1 200 OK\"\n"
     ]
    },
    {
     "data": {
      "text/html": [
       "<pre style=\"white-space:pre;overflow-x:auto;line-height:normal;font-family:Menlo,'DejaVu Sans Mono',consolas,'Courier New',monospace\"></pre>\n"
      ],
      "text/plain": []
     },
     "metadata": {},
     "output_type": "display_data"
    }
   ],
   "source": [
    "agent_team = Agent(\n",
    "    model=Gemini(id=\"gemini-2.0-flash-exp\"),\n",
    "    team=[csv_agent, news_agent, analyst_agent],\n",
    "    instructions=[\n",
    "        \"Do the following\",\n",
    "        \"1. Ask CSV Agent (agent_0) to read the file stocks_analysis.csv and return list of company names from the column Company_Names.\",\n",
    "        \"2. For each company name received from CSV Agent (agent_0) ask the News Agent (agent_1) about latest news of the company name.\",\n",
    "        \"3. Give the news received from News Agent (agent_1) to Analyst Agent for analysis\",\n",
    "        \"4. Always include references and dates for all data points and sources.\",\n",
    "        \"Present all data in structured tables for clarity.\"\n",
    "        \"Explain the methodology used to arrive at the sentiment scores.\"\n",
    "        \"Combine the expertise of all agents to provide a cohesive, well-supported response.\"\n",
    "        \"Always include references and dates for all data points and sources.\"\n",
    "        \"Present all data in structured tables for clarity.\"\n",
    "        \"Explain the methodology used to arrive at the sentiment scores.\"\n",
    "    ],\n",
    "    show_tool_calls=True,\n",
    "    markdown=True,\n",
    ")\n",
    "\n",
    "## Run Agent Team\n",
    "\n",
    "# Final Prompt\n",
    "agent_team.print_response(\"Analyze stocks from stocks_analysis.csv\",stream=True)"
   ]
  }
 ],
 "metadata": {
  "kernelspec": {
   "display_name": "Python 3",
   "language": "python",
   "name": "python3"
  },
  "language_info": {
   "codemirror_mode": {
    "name": "ipython",
    "version": 3
   },
   "file_extension": ".py",
   "mimetype": "text/x-python",
   "name": "python",
   "nbconvert_exporter": "python",
   "pygments_lexer": "ipython3",
   "version": "3.12.3"
  }
 },
 "nbformat": 4,
 "nbformat_minor": 2
}
