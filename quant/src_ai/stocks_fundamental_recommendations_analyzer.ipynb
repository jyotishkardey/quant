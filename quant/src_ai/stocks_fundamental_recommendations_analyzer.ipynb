{
 "cells": [
  {
   "cell_type": "markdown",
   "metadata": {},
   "source": [
    "STOCK ANALYZER "
   ]
  },
  {
   "cell_type": "code",
   "execution_count": 2,
   "metadata": {},
   "outputs": [
    {
     "data": {
      "application/vnd.jupyter.widget-view+json": {
       "model_id": "0a8085f0ac7a4b2a9e11b5cf5ac11e28",
       "version_major": 2,
       "version_minor": 0
      },
      "text/plain": [
       "Output()"
      ]
     },
     "metadata": {},
     "output_type": "display_data"
    },
    {
     "data": {
      "text/html": [
       "<pre style=\"white-space:pre;overflow-x:auto;line-height:normal;font-family:Menlo,'DejaVu Sans Mono',consolas,'Courier New',monospace\"><span style=\"color: #000080; text-decoration-color: #000080\">INFO    </span> Loading csv file: stocks_analysis                                                                         \n",
       "</pre>\n"
      ],
      "text/plain": [
       "\u001b[34mINFO    \u001b[0m Loading csv file: stocks_analysis                                                                         \n"
      ]
     },
     "metadata": {},
     "output_type": "display_data"
    },
    {
     "data": {
      "text/html": [
       "<pre style=\"white-space:pre;overflow-x:auto;line-height:normal;font-family:Menlo,'DejaVu Sans Mono',consolas,'Courier New',monospace\"><span style=\"color: #000080; text-decoration-color: #000080\">INFO    </span> Running query: SELECT <span style=\"color: #008000; text-decoration-color: #008000\">\"Ticker Symbols\"</span> FROM stocks_analysis                                               \n",
       "</pre>\n"
      ],
      "text/plain": [
       "\u001b[34mINFO    \u001b[0m Running query: SELECT \u001b[32m\"Ticker Symbols\"\u001b[0m FROM stocks_analysis                                               \n"
      ]
     },
     "metadata": {},
     "output_type": "display_data"
    },
    {
     "data": {
      "text/html": [
       "<pre style=\"white-space:pre;overflow-x:auto;line-height:normal;font-family:Menlo,'DejaVu Sans Mono',consolas,'Courier New',monospace\"></pre>\n"
      ],
      "text/plain": []
     },
     "metadata": {},
     "output_type": "display_data"
    }
   ],
   "source": [
    "'''\n",
    "pip install duckdb\n",
    "'''\n",
    "from phi.agent import Agent\n",
    "from phi.tools.yfinance import YFinanceTools\n",
    "from phi.model.google import Gemini\n",
    "from phi.tools.csv_tools import CsvTools\n",
    "from settings import *\n",
    "\n",
    "\n",
    "csv_agent = Agent(\n",
    "    name = 'CSV Agent',\n",
    "    role = 'CSV File analysis',\n",
    "    tools=[CsvTools(csvs=[stocks_input_data])],\n",
    "    model=Gemini(id=\"gemini-2.0-flash-exp\"),\n",
    "    markdown=True,\n",
    "    show_tool_calls=True,\n",
    "    instructions=[\n",
    "        \"Retrieve the column 'Ticker Symbols' from the csv file\",\n",
    "    ],\n",
    ")\n",
    "\n",
    "#csv_agent.print_response(\"Read stocks_analysis.csv. Give me the list of stocks\", stream='True')\n",
    "\n",
    "# Finance Agent\n",
    "finance_agent = Agent(\n",
    "    name=\"Finance Agent\",\n",
    "    role=\"Get financial data and interpret trends.\",\n",
    "    model=Gemini(id=\"gemini-2.0-flash-exp\"),\n",
    "    tools=[YFinanceTools(stock_price=True, analyst_recommendations=True, company_info=True)],\n",
    "    instructions=[\n",
    "        \"Retrieve stock prices, analyst recommendations, and key financial data.\",\n",
    "        \"Focus on trends and present the data in tables with key insights.\"\n",
    "    ],\n",
    "    show_tool_calls=True,\n",
    "    markdown=True,\n",
    ")\n",
    "\n",
    "# Team of Agents\n",
    "agent_team = Agent(\n",
    "    model=Gemini(id=\"gemini-2.0-flash-exp\"),\n",
    "    team=[csv_agent, finance_agent, finance_agent],\n",
    "    instructions=[\n",
    "        f\"Do the following:\"\n",
    "        \"1. Ask CSV Agent (agent_0) to read the file stocks_analysis.csv and return the list of ticker symbols from 'Ticker Symbols' column\"\n",
    "        \"2. For each stock ask Finance Agent (agent_1) to Analyze stock price movements, analyst recommendations, and any notable financial data of each stock.\"\n",
    "        \"Highlight key trends or events, and present the data in tables\"\n",
    "    ],\n",
    "    show_tool_calls=True,\n",
    "    markdown=True,\n",
    ")\n",
    "\n",
    "agent_team.print_response(\"Analyze stocks from stocks_analysis.csv\",stream=True)\n",
    "\n",
    "#finance_agent.print_response(\"I am giving you list of stocks: HDFCBANK.NS, TCS.NS. Analyze stock price movements, analyst recommendations, and any notable financial data of each stock. Highlight key trends or events, and present the data in tables.\", \n",
    "#    stream=True) #To output to Jupyter set stream=True\n"
   ]
  }
 ],
 "metadata": {
  "kernelspec": {
   "display_name": "Python 3",
   "language": "python",
   "name": "python3"
  },
  "language_info": {
   "codemirror_mode": {
    "name": "ipython",
    "version": 3
   },
   "file_extension": ".py",
   "mimetype": "text/x-python",
   "name": "python",
   "nbconvert_exporter": "python",
   "pygments_lexer": "ipython3",
   "version": "3.12.3"
  }
 },
 "nbformat": 4,
 "nbformat_minor": 2
}
